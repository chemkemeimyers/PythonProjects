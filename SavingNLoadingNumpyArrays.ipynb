{
  "nbformat": 4,
  "nbformat_minor": 0,
  "metadata": {
    "colab": {
      "provenance": [],
      "mount_file_id": "1k3eWHFQAYz_XidPINT9HB9ovR1lYIUFu",
      "authorship_tag": "ABX9TyNxTMPxApMOlChGToNyRwTP",
      "include_colab_link": true
    },
    "kernelspec": {
      "name": "python3",
      "display_name": "Python 3"
    },
    "language_info": {
      "name": "python"
    }
  },
  "cells": [
    {
      "cell_type": "markdown",
      "metadata": {
        "id": "view-in-github",
        "colab_type": "text"
      },
      "source": [
        "<a href=\"https://colab.research.google.com/github/chemkemeimyers/PythonProjects/blob/main/SavingNLoadingNumpyArrays.ipynb\" target=\"_parent\"><img src=\"https://colab.research.google.com/assets/colab-badge.svg\" alt=\"Open In Colab\"/></a>"
      ]
    },
    {
      "cell_type": "code",
      "execution_count": 2,
      "metadata": {
        "colab": {
          "base_uri": "https://localhost:8080/"
        },
        "id": "2aJKUdd5Pm5w",
        "outputId": "7b1a9b5f-fe6b-4f4a-9320-1f35162fb285"
      },
      "outputs": [
        {
          "output_type": "stream",
          "name": "stdout",
          "text": [
            "Mounted at /content/drive\n"
          ]
        }
      ],
      "source": [
        "from google.colab import drive\n",
        "\n",
        "drive.mount('/content/drive')"
      ]
    },
    {
      "cell_type": "code",
      "source": [
        "import numpy as np"
      ],
      "metadata": {
        "id": "KAf4Gk_LQvVR"
      },
      "execution_count": 4,
      "outputs": []
    },
    {
      "cell_type": "code",
      "source": [
        "randint_matrix1 = np.random.randint(1,10,10).reshape(2,5)\n",
        "print(randint_matrix1)\n",
        "print(\"\")\n",
        "randint_matrix2 = np.random.randint(10,20,10).reshape(2,5)\n",
        "print(randint_matrix2)\n"
      ],
      "metadata": {
        "colab": {
          "base_uri": "https://localhost:8080/"
        },
        "id": "FJ1TgA-fPwkf",
        "outputId": "fa778638-19a8-4bc5-d31c-4e76f5ba1542"
      },
      "execution_count": 8,
      "outputs": [
        {
          "output_type": "stream",
          "name": "stdout",
          "text": [
            "[[8 8 9 4 5]\n",
            " [8 5 5 4 9]]\n",
            "\n",
            "[[18 15 16 19 14]\n",
            " [18 11 11 17 10]]\n"
          ]
        }
      ]
    },
    {
      "cell_type": "code",
      "source": [
        "np.save(\"/content/drive/MyDrive/MachineLearningCourse/Python/MatrixData\",randint_matrix1)"
      ],
      "metadata": {
        "id": "wIVd5GdxQsKH"
      },
      "execution_count": 11,
      "outputs": []
    },
    {
      "cell_type": "code",
      "source": [
        "np.savez(\"/content/drive/MyDrive/MachineLearningCourse/Python/multiple_files\",\n",
        "         randint_matrix1 = randint_matrix1,\n",
        "         randint_matrix2 = randint_matrix2)"
      ],
      "metadata": {
        "id": "9fsbmhkjRZze"
      },
      "execution_count": 12,
      "outputs": []
    },
    {
      "cell_type": "code",
      "source": [
        "loaded_arr = np.load(\"/content/drive/MyDrive/MachineLearningCourse/Python/MatrixData.npy\")\n",
        "print(loaded_arr)"
      ],
      "metadata": {
        "colab": {
          "base_uri": "https://localhost:8080/"
        },
        "id": "wqf_dm9rSftA",
        "outputId": "081091bb-47ab-42d3-9447-fd643a0681ab"
      },
      "execution_count": 13,
      "outputs": [
        {
          "output_type": "stream",
          "name": "stdout",
          "text": [
            "[[8 8 9 4 5]\n",
            " [8 5 5 4 9]]\n"
          ]
        }
      ]
    },
    {
      "cell_type": "code",
      "source": [
        "loaded_multi = np.load(\"/content/drive/MyDrive/MachineLearningCourse/Python/multiple_files.npz\")"
      ],
      "metadata": {
        "id": "EYf65rQBSo7N"
      },
      "execution_count": 14,
      "outputs": []
    },
    {
      "cell_type": "code",
      "source": [
        "print(loaded_multi[\"randint_matrix1\"])\n",
        "print(loaded_multi[\"randint_matrix2\"])"
      ],
      "metadata": {
        "colab": {
          "base_uri": "https://localhost:8080/"
        },
        "id": "V_VWNpq0S2fm",
        "outputId": "282028a4-377f-46e4-a715-f568eeef5fe1"
      },
      "execution_count": 16,
      "outputs": [
        {
          "output_type": "stream",
          "name": "stdout",
          "text": [
            "[[8 8 9 4 5]\n",
            " [8 5 5 4 9]]\n",
            "[[18 15 16 19 14]\n",
            " [18 11 11 17 10]]\n"
          ]
        }
      ]
    },
    {
      "cell_type": "code",
      "source": [
        "np.savetxt(\"/content/drive/MyDrive/MachineLearningCourse/Python/matrix_data.txt\",randint_matrix1,delimiter=\",\")"
      ],
      "metadata": {
        "id": "QT7aZY7WS9EV"
      },
      "execution_count": 17,
      "outputs": []
    },
    {
      "cell_type": "code",
      "source": [
        "rand_mat_txt = np.loadtxt(\"/content/drive/MyDrive/MachineLearningCourse/Python/matrix_data.txt\",delimiter=\",\")\n",
        "print(rand_mat_txt)"
      ],
      "metadata": {
        "colab": {
          "base_uri": "https://localhost:8080/"
        },
        "id": "wSF-pavaTagO",
        "outputId": "62edca2e-9ca0-4330-a002-ed36b1ddfee5"
      },
      "execution_count": 18,
      "outputs": [
        {
          "output_type": "stream",
          "name": "stdout",
          "text": [
            "[[8. 8. 9. 4. 5.]\n",
            " [8. 5. 5. 4. 9.]]\n"
          ]
        }
      ]
    },
    {
      "cell_type": "code",
      "source": [],
      "metadata": {
        "id": "GaKyMWAJTf12"
      },
      "execution_count": null,
      "outputs": []
    }
  ]
}