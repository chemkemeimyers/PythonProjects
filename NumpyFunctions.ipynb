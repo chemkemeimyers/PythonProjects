{
 "cells": [
  {
   "cell_type": "code",
   "execution_count": 65,
   "metadata": {},
   "outputs": [],
   "source": [
    "import numpy as np"
   ]
  },
  {
   "cell_type": "code",
   "execution_count": 66,
   "metadata": {},
   "outputs": [
    {
     "data": {
      "text/plain": [
       "[0, 1, 2, 3, 4, 5, 6, 7, 8, 9]"
      ]
     },
     "execution_count": 66,
     "metadata": {},
     "output_type": "execute_result"
    }
   ],
   "source": [
    "list(range(0, 10))"
   ]
  },
  {
   "cell_type": "code",
   "execution_count": 67,
   "metadata": {},
   "outputs": [
    {
     "data": {
      "text/plain": [
       "[5, 6, 7, 8, 9, 10, 11, 12, 13, 14, 15, 16, 17, 18, 19]"
      ]
     },
     "execution_count": 67,
     "metadata": {},
     "output_type": "execute_result"
    }
   ],
   "source": [
    "list(range(5,20))"
   ]
  },
  {
   "cell_type": "code",
   "execution_count": 68,
   "metadata": {},
   "outputs": [
    {
     "name": "stdout",
     "output_type": "stream",
     "text": [
      "[0 1 2 3 4 5 6 7 8 9]\n",
      "[0 1 2 3 4 5 6 7 8 9]\n"
     ]
    }
   ],
   "source": [
    "arr2 = np.arange(start=0, stop=10)\n",
    "print(arr2)\n",
    "\n",
    "arr3 = np.arange(0, 10)\n",
    "print(arr3)"
   ]
  },
  {
   "cell_type": "code",
   "execution_count": 74,
   "metadata": {},
   "outputs": [
    {
     "name": "stdout",
     "output_type": "stream",
     "text": [
      "[14 15 16 17 18 19 20]\n"
     ]
    }
   ],
   "source": [
    "arrA = np.arange(14,21)\n",
    "print(arrA)"
   ]
  },
  {
   "cell_type": "code",
   "execution_count": 73,
   "metadata": {},
   "outputs": [
    {
     "name": "stdout",
     "output_type": "stream",
     "text": [
      "[ 7  8  9 10 11 12 13]\n"
     ]
    }
   ],
   "source": [
    "arrB = np.arange(7,14)\n",
    "print(arrB)"
   ]
  },
  {
   "cell_type": "code",
   "execution_count": 75,
   "metadata": {},
   "outputs": [
    {
     "name": "stdout",
     "output_type": "stream",
     "text": [
      "[21 23 25 27 29 31 33]\n"
     ]
    }
   ],
   "source": [
    "print(arrA+arrB)"
   ]
  },
  {
   "cell_type": "code",
   "execution_count": 76,
   "metadata": {},
   "outputs": [
    {
     "name": "stdout",
     "output_type": "stream",
     "text": [
      "[ 0  5 10 15]\n"
     ]
    }
   ],
   "source": [
    "arr4 = np.arange(0,20,5)\n",
    "print(arr4)"
   ]
  },
  {
   "cell_type": "code",
   "execution_count": 77,
   "metadata": {},
   "outputs": [
    {
     "data": {
      "text/plain": [
       "array([0.        , 0.10204082, 0.20408163, 0.30612245, 0.40816327,\n",
       "       0.51020408, 0.6122449 , 0.71428571, 0.81632653, 0.91836735,\n",
       "       1.02040816, 1.12244898, 1.2244898 , 1.32653061, 1.42857143,\n",
       "       1.53061224, 1.63265306, 1.73469388, 1.83673469, 1.93877551,\n",
       "       2.04081633, 2.14285714, 2.24489796, 2.34693878, 2.44897959,\n",
       "       2.55102041, 2.65306122, 2.75510204, 2.85714286, 2.95918367,\n",
       "       3.06122449, 3.16326531, 3.26530612, 3.36734694, 3.46938776,\n",
       "       3.57142857, 3.67346939, 3.7755102 , 3.87755102, 3.97959184,\n",
       "       4.08163265, 4.18367347, 4.28571429, 4.3877551 , 4.48979592,\n",
       "       4.59183673, 4.69387755, 4.79591837, 4.89795918, 5.        ])"
      ]
     },
     "execution_count": 77,
     "metadata": {},
     "output_type": "execute_result"
    }
   ],
   "source": [
    "matrix2 = np.linspace(0,5) #default number of steps is 50\n",
    "matrix2"
   ]
  },
  {
   "cell_type": "code",
   "execution_count": 82,
   "metadata": {},
   "outputs": [
    {
     "name": "stdout",
     "output_type": "stream",
     "text": [
      "[[ 1.          3.11111111  5.22222222  7.33333333  9.44444444]\n",
      " [11.55555556 13.66666667 15.77777778 17.88888889 20.        ]]\n"
     ]
    }
   ],
   "source": [
    "matA = np.linspace(1,20,10).reshape(2,5)\n",
    "print(matA)"
   ]
  },
  {
   "cell_type": "code",
   "execution_count": 83,
   "metadata": {},
   "outputs": [
    {
     "data": {
      "text/plain": [
       "array([10.        , 11.11111111, 12.22222222, 13.33333333, 14.44444444,\n",
       "       15.55555556, 16.66666667, 17.77777778, 18.88888889, 20.        ])"
      ]
     },
     "execution_count": 83,
     "metadata": {},
     "output_type": "execute_result"
    }
   ],
   "source": [
    "matrix3 = np.linspace(10,20,10)\n",
    "matrix3"
   ]
  },
  {
   "cell_type": "code",
   "execution_count": 84,
   "metadata": {},
   "outputs": [
    {
     "data": {
      "text/plain": [
       "array([[0., 0., 0., 0., 0.],\n",
       "       [0., 0., 0., 0., 0.],\n",
       "       [0., 0., 0., 0., 0.]])"
      ]
     },
     "execution_count": 84,
     "metadata": {},
     "output_type": "execute_result"
    }
   ],
   "source": [
    "matrix4 = np.zeros([3,5])\n",
    "matrix4"
   ]
  },
  {
   "cell_type": "code",
   "execution_count": 85,
   "metadata": {},
   "outputs": [
    {
     "data": {
      "text/plain": [
       "array([[0., 0., 0., 0.],\n",
       "       [0., 0., 0., 0.],\n",
       "       [0., 0., 0., 0.],\n",
       "       [0., 0., 0., 0.]])"
      ]
     },
     "execution_count": 85,
     "metadata": {},
     "output_type": "execute_result"
    }
   ],
   "source": [
    "matrix5 = np.zeros([4, 4])\n",
    "matrix5"
   ]
  },
  {
   "cell_type": "code",
   "execution_count": 86,
   "metadata": {},
   "outputs": [
    {
     "data": {
      "text/plain": [
       "array([[1, 1, 1, 1, 1],\n",
       "       [1, 1, 1, 1, 1],\n",
       "       [1, 1, 1, 1, 1]])"
      ]
     },
     "execution_count": 86,
     "metadata": {},
     "output_type": "execute_result"
    }
   ],
   "source": [
    "np.ones([3, 5], int)"
   ]
  },
  {
   "cell_type": "code",
   "execution_count": 87,
   "metadata": {},
   "outputs": [
    {
     "data": {
      "text/plain": [
       "array([[1., 0., 0., 0., 0.],\n",
       "       [0., 1., 0., 0., 0.],\n",
       "       [0., 0., 1., 0., 0.],\n",
       "       [0., 0., 0., 1., 0.],\n",
       "       [0., 0., 0., 0., 1.]])"
      ]
     },
     "execution_count": 87,
     "metadata": {},
     "output_type": "execute_result"
    }
   ],
   "source": [
    "matrix6 = np.eye(5)\n",
    "matrix6"
   ]
  },
  {
   "cell_type": "code",
   "execution_count": 88,
   "metadata": {},
   "outputs": [
    {
     "data": {
      "text/plain": [
       "array([ 0,  3,  6,  9, 12, 15, 18])"
      ]
     },
     "execution_count": 88,
     "metadata": {},
     "output_type": "execute_result"
    }
   ],
   "source": [
    "arr1 = np.arange(0, 20, 3)\n",
    "arr1"
   ]
  },
  {
   "cell_type": "code",
   "execution_count": 89,
   "metadata": {},
   "outputs": [
    {
     "data": {
      "text/plain": [
       "array([10.        , 11.11111111, 12.22222222, 13.33333333, 14.44444444,\n",
       "       15.55555556, 16.66666667, 17.77777778, 18.88888889, 20.        ])"
      ]
     },
     "execution_count": 89,
     "metadata": {},
     "output_type": "execute_result"
    }
   ],
   "source": [
    "matrix_a = np.linspace(10, 20, 10)\n",
    "matrix_a"
   ]
  },
  {
   "cell_type": "code",
   "execution_count": 90,
   "metadata": {},
   "outputs": [
    {
     "data": {
      "text/plain": [
       "array([0, 1, 2, 3, 4, 5, 6, 7, 8, 9])"
      ]
     },
     "execution_count": 90,
     "metadata": {},
     "output_type": "execute_result"
    }
   ],
   "source": [
    "arr4 = np.arange(0, 10)\n",
    "arr4"
   ]
  },
  {
   "cell_type": "code",
   "execution_count": 91,
   "metadata": {},
   "outputs": [
    {
     "data": {
      "text/plain": [
       "array([[0, 1, 2, 3, 4],\n",
       "       [5, 6, 7, 8, 9]])"
      ]
     },
     "execution_count": 91,
     "metadata": {},
     "output_type": "execute_result"
    }
   ],
   "source": [
    "arr4_reshaped = arr4.reshape([2,5])\n",
    "arr4_reshaped"
   ]
  },
  {
   "cell_type": "code",
   "execution_count": 92,
   "metadata": {},
   "outputs": [
    {
     "name": "stdout",
     "output_type": "stream",
     "text": [
      "10\n"
     ]
    }
   ],
   "source": [
    "print(len(arr4))"
   ]
  },
  {
   "cell_type": "markdown",
   "metadata": {},
   "source": [
    "**Trigonometric functions**"
   ]
  },
  {
   "cell_type": "code",
   "execution_count": 93,
   "metadata": {},
   "outputs": [
    {
     "name": "stdout",
     "output_type": "stream",
     "text": [
      "Sine Function:  -0.7568024953079282\n",
      "Cosine Function:  -0.6536436208636119\n",
      "Tan Function:  1.1578212823495777\n"
     ]
    }
   ],
   "source": [
    "print(\"Sine Function: \", np.sin(4))\n",
    "print(\"Cosine Function: \", np.cos(4))\n",
    "print(\"Tan Function: \", np.tan(4))"
   ]
  },
  {
   "cell_type": "markdown",
   "metadata": {},
   "source": [
    "**Exponents and logarithmic functions**"
   ]
  },
  {
   "cell_type": "code",
   "execution_count": 94,
   "metadata": {},
   "outputs": [
    {
     "data": {
      "text/plain": [
       "7.38905609893065"
      ]
     },
     "execution_count": 94,
     "metadata": {},
     "output_type": "execute_result"
    }
   ],
   "source": [
    "np.exp(2)"
   ]
  },
  {
   "cell_type": "code",
   "execution_count": 95,
   "metadata": {},
   "outputs": [
    {
     "data": {
      "text/plain": [
       "array([  7.3890561 ,  54.59815003, 403.42879349])"
      ]
     },
     "execution_count": 95,
     "metadata": {},
     "output_type": "execute_result"
    }
   ],
   "source": [
    "arr5 = np.array([2, 4, 6])\n",
    "np.exp(arr5)"
   ]
  },
  {
   "cell_type": "code",
   "execution_count": 96,
   "metadata": {},
   "outputs": [
    {
     "data": {
      "text/plain": [
       "0.6931471805599453"
      ]
     },
     "execution_count": 96,
     "metadata": {},
     "output_type": "execute_result"
    }
   ],
   "source": [
    "#by default Numpty takes the base of log as e\n",
    "np.log(2)"
   ]
  },
  {
   "cell_type": "code",
   "execution_count": 97,
   "metadata": {},
   "outputs": [
    {
     "data": {
      "text/plain": [
       "array([0.69314718, 1.38629436, 1.79175947])"
      ]
     },
     "execution_count": 97,
     "metadata": {},
     "output_type": "execute_result"
    }
   ],
   "source": [
    "np.log(arr5)"
   ]
  },
  {
   "cell_type": "code",
   "execution_count": 98,
   "metadata": {},
   "outputs": [
    {
     "data": {
      "text/plain": [
       "0.9030899869919435"
      ]
     },
     "execution_count": 98,
     "metadata": {},
     "output_type": "execute_result"
    }
   ],
   "source": [
    "#log with base 10\n",
    "np.log10(8)"
   ]
  },
  {
   "cell_type": "markdown",
   "metadata": {},
   "source": [
    "**Arithmetic operations on arrays**"
   ]
  },
  {
   "cell_type": "code",
   "execution_count": 99,
   "metadata": {},
   "outputs": [
    {
     "name": "stdout",
     "output_type": "stream",
     "text": [
      "[1, 2, 3, 4, 5, 6]\n"
     ]
    }
   ],
   "source": [
    "l1 = [1, 2, 3]\n",
    "l2 = [4, 5, 6]\n",
    "print(l1+l2)"
   ]
  },
  {
   "cell_type": "code",
   "execution_count": 100,
   "metadata": {},
   "outputs": [
    {
     "name": "stdout",
     "output_type": "stream",
     "text": [
      "arr7:  [1 2 3 4 5]\n",
      "arr8:  [3 4 5 6 7]\n"
     ]
    }
   ],
   "source": [
    "arr7 = np.arange(1,6)\n",
    "print(\"arr7: \", arr7)\n",
    "\n",
    "arr8 = np.arange(3, 8)\n",
    "print(\"arr8: \", arr8)\n"
   ]
  },
  {
   "cell_type": "code",
   "execution_count": 101,
   "metadata": {},
   "outputs": [
    {
     "name": "stdout",
     "output_type": "stream",
     "text": [
      "Addition:  [ 4  6  8 10 12]\n",
      "Subtraction:  [2 2 2 2 2]\n",
      "Multiplication:  [ 3  8 15 24 35]\n",
      "Divide:  [0.33333333 0.5        0.6        0.66666667 0.71428571]\n",
      "Inverse:  [1.         0.5        0.33333333 0.25       0.2       ]\n",
      "Powers:  [    1    16   243  4096 78125]\n"
     ]
    }
   ],
   "source": [
    "print(\"Addition: \", arr7+arr8)\n",
    "print(\"Subtraction: \", arr8 - arr7)\n",
    "print(\"Multiplication: \", arr8 * arr7)\n",
    "print(\"Divide: \", arr7 / arr8)\n",
    "print(\"Inverse: \", 1/arr7)\n",
    "print(\"Powers: \", arr7 ** arr8)"
   ]
  },
  {
   "cell_type": "code",
   "execution_count": 102,
   "metadata": {},
   "outputs": [
    {
     "data": {
      "text/plain": [
       "array([5, 7, 9])"
      ]
     },
     "execution_count": 102,
     "metadata": {},
     "output_type": "execute_result"
    }
   ],
   "source": [
    "np.array([1, 2, 3]) + np.array([4, 5, 6])"
   ]
  },
  {
   "cell_type": "code",
   "execution_count": 103,
   "metadata": {},
   "outputs": [
    {
     "data": {
      "text/plain": [
       "array([ 4, 10, 18])"
      ]
     },
     "execution_count": 103,
     "metadata": {},
     "output_type": "execute_result"
    }
   ],
   "source": [
    "np.array([1, 2, 3]) * np.array([4, 5, 6])"
   ]
  },
  {
   "cell_type": "markdown",
   "metadata": {},
   "source": [
    "***Operations on Matrices**"
   ]
  },
  {
   "cell_type": "code",
   "execution_count": 104,
   "metadata": {},
   "outputs": [
    {
     "name": "stdout",
     "output_type": "stream",
     "text": [
      "[[1 2 3]\n",
      " [4 5 6]\n",
      " [7 8 9]]\n",
      "[[1. 0. 0.]\n",
      " [0. 1. 0.]\n",
      " [0. 0. 1.]]\n"
     ]
    }
   ],
   "source": [
    "matrix7 = np.arange(1, 10).reshape(3, 3)\n",
    "print(matrix7)\n",
    "\n",
    "matrix8 = np.eye(3)\n",
    "print(matrix8)"
   ]
  },
  {
   "cell_type": "code",
   "execution_count": 105,
   "metadata": {},
   "outputs": [
    {
     "name": "stdout",
     "output_type": "stream",
     "text": [
      "Addition: \n",
      " [[ 2.  2.  3.]\n",
      " [ 4.  6.  6.]\n",
      " [ 7.  8. 10.]]\n",
      "Subtraction: \n",
      " [[0. 2. 3.]\n",
      " [4. 4. 6.]\n",
      " [7. 8. 8.]]\n",
      "Multiplication: \n",
      " [[1. 0. 0.]\n",
      " [0. 5. 0.]\n",
      " [0. 0. 9.]]\n",
      "Division: \n",
      " [[ 1. inf inf]\n",
      " [inf  5. inf]\n",
      " [inf inf  9.]]\n"
     ]
    },
    {
     "name": "stderr",
     "output_type": "stream",
     "text": [
      "C:\\Users\\brosb\\AppData\\Local\\Temp\\ipykernel_2136\\799586902.py:4: RuntimeWarning: divide by zero encountered in true_divide\n",
      "  print(\"Division: \\n\", matrix7 / matrix8)\n"
     ]
    }
   ],
   "source": [
    "print(\"Addition: \\n\", matrix7 + matrix8)\n",
    "print(\"Subtraction: \\n\", matrix7 - matrix8)\n",
    "print(\"Multiplication: \\n\", matrix7 * matrix8)\n",
    "print(\"Division: \\n\", matrix7 / matrix8)"
   ]
  },
  {
   "cell_type": "markdown",
   "metadata": {},
   "source": [
    "**Linear Algebra Matrix Multiplication**"
   ]
  },
  {
   "cell_type": "code",
   "execution_count": 106,
   "metadata": {},
   "outputs": [
    {
     "name": "stdout",
     "output_type": "stream",
     "text": [
      "First Matrix: \n",
      " [[1 2 3]\n",
      " [4 5 6]\n",
      " [7 8 9]]\n",
      "Second Matrix: \n",
      " [[11 12 13]\n",
      " [14 15 16]\n",
      " [17 18 19]]\n",
      "Multiplication: \n",
      " [[ 90  96 102]\n",
      " [216 231 246]\n",
      " [342 366 390]]\n"
     ]
    }
   ],
   "source": [
    "matrix9 = np.arange(1,10).reshape([3,3])\n",
    "\n",
    "print(\"First Matrix: \\n\", matrix9)\n",
    "\n",
    "matrix10 = np.arange(11,20).reshape(3,3)\n",
    "print(\"Second Matrix: \\n\", matrix10)\n",
    "\n",
    "print(\"Multiplication: \\n\", matrix9 @ matrix10)"
   ]
  },
  {
   "cell_type": "markdown",
   "metadata": {},
   "source": [
    "**Transpose of a matrix**"
   ]
  },
  {
   "cell_type": "code",
   "execution_count": 107,
   "metadata": {},
   "outputs": [
    {
     "name": "stdout",
     "output_type": "stream",
     "text": [
      "[[1 2 3]\n",
      " [4 5 6]\n",
      " [7 8 9]]\n"
     ]
    }
   ],
   "source": [
    "print(matrix9)"
   ]
  },
  {
   "cell_type": "code",
   "execution_count": 108,
   "metadata": {},
   "outputs": [
    {
     "name": "stdout",
     "output_type": "stream",
     "text": [
      "[[1 4 7]\n",
      " [2 5 8]\n",
      " [3 6 9]]\n"
     ]
    }
   ],
   "source": [
    "print(matrix9.T)"
   ]
  },
  {
   "cell_type": "code",
   "execution_count": 109,
   "metadata": {},
   "outputs": [
    {
     "data": {
      "text/plain": [
       "array([[1, 4, 7],\n",
       "       [2, 5, 8],\n",
       "       [3, 6, 9]])"
      ]
     },
     "execution_count": 109,
     "metadata": {},
     "output_type": "execute_result"
    }
   ],
   "source": [
    "np.transpose(matrix9)"
   ]
  },
  {
   "cell_type": "code",
   "execution_count": 110,
   "metadata": {},
   "outputs": [
    {
     "data": {
      "text/plain": [
       "array([[1, 4, 7],\n",
       "       [2, 5, 8],\n",
       "       [3, 6, 9]])"
      ]
     },
     "execution_count": 110,
     "metadata": {},
     "output_type": "execute_result"
    }
   ],
   "source": [
    "matrix9.T"
   ]
  },
  {
   "cell_type": "markdown",
   "metadata": {},
   "source": [
    "**Function to find minimum and maximum values**"
   ]
  },
  {
   "cell_type": "code",
   "execution_count": 35,
   "metadata": {},
   "outputs": [
    {
     "name": "stdout",
     "output_type": "stream",
     "text": [
      "[[1 2 3]\n",
      " [4 5 6]\n",
      " [7 8 9]]\n"
     ]
    }
   ],
   "source": [
    "print(matrix9)"
   ]
  },
  {
   "cell_type": "code",
   "execution_count": 111,
   "metadata": {},
   "outputs": [
    {
     "name": "stdout",
     "output_type": "stream",
     "text": [
      "Minimum value:  1\n",
      "Maximum value:  9\n"
     ]
    }
   ],
   "source": [
    "print(\"Minimum value: \", np.min(matrix9))\n",
    "\n",
    "print(\"Maximum value: \", np.max(matrix9))"
   ]
  },
  {
   "cell_type": "markdown",
   "metadata": {},
   "source": [
    "**Functions to generate random samples**"
   ]
  },
  {
   "cell_type": "code",
   "execution_count": 112,
   "metadata": {},
   "outputs": [
    {
     "name": "stdout",
     "output_type": "stream",
     "text": [
      "[0.16187056 0.54331688 0.57933578 0.29787613 0.8326538 ]\n"
     ]
    }
   ],
   "source": [
    "rand_mat = np.random.rand(5)\n",
    "print(rand_mat)"
   ]
  },
  {
   "cell_type": "code",
   "execution_count": 113,
   "metadata": {},
   "outputs": [
    {
     "name": "stdout",
     "output_type": "stream",
     "text": [
      "[[0.5975483  0.91845399 0.01031675 0.80970253 0.05869674]\n",
      " [0.35579351 0.3998296  0.89138665 0.48303477 0.80336101]\n",
      " [0.88772387 0.81869159 0.30036335 0.83149484 0.40821524]\n",
      " [0.9803201  0.79875861 0.9178396  0.21346782 0.51379173]\n",
      " [0.91083261 0.07483507 0.95181775 0.78511832 0.63490715]]\n"
     ]
    }
   ],
   "source": [
    "#Generating random values in a matrix\n",
    "rand_mat2 = np.random.rand(5, 5)\n",
    "print(rand_mat2)\n"
   ]
  },
  {
   "cell_type": "markdown",
   "metadata": {},
   "source": [
    "**Using np.random.randn function**\n",
    "\n",
    "- The np.random.randn returns a random numpy array whose samples(s) are drawn randomly from the standard normal distribution (Mean = 0, standard deviation = 1)\n",
    "\n",
    "-*Syntax* - np.random.randn(d0,d1)\n",
    "    - d0, d1 represent the dimension of the output with d1 being optional"
   ]
  },
  {
   "cell_type": "code",
   "execution_count": 121,
   "metadata": {},
   "outputs": [
    {
     "name": "stdout",
     "output_type": "stream",
     "text": [
      "[-1.1330796   0.727883   -0.66997633  0.42126731 -0.4546396 ]\n"
     ]
    }
   ],
   "source": [
    "rand_mat3 = np.random.randn(5)\n",
    "print(rand_mat3)"
   ]
  },
  {
   "cell_type": "code",
   "execution_count": 122,
   "metadata": {},
   "outputs": [
    {
     "name": "stdout",
     "output_type": "stream",
     "text": [
      "[[-0.44157709 -0.80421291 -0.13538872  1.05060708 -0.37371505]\n",
      " [-0.68659915 -0.82016263 -0.32021324 -2.23551191  0.86196328]\n",
      " [-0.78755442 -0.33154381 -0.6226227   0.18208441 -0.04521952]\n",
      " [ 0.75167454  0.71865334 -0.63511138 -1.27140337 -0.08906465]\n",
      " [ 0.85724063 -0.8053992  -1.23359452  1.6674594   0.96861136]]\n"
     ]
    }
   ],
   "source": [
    "rand_mat4 = np.random.randn(5, 5)\n",
    "print(rand_mat4)"
   ]
  },
  {
   "cell_type": "code",
   "execution_count": 123,
   "metadata": {},
   "outputs": [
    {
     "name": "stdout",
     "output_type": "stream",
     "text": [
      "Mean:  -0.18322400934578187\n",
      "Standard deviation:  0.8749293708335171\n"
     ]
    }
   ],
   "source": [
    "#Let's check the mean and standard deviation of rand_mat4\n",
    "print(\"Mean: \", np.mean(rand_mat4))\n",
    "print(\"Standard deviation: \", np.std(rand_mat4))"
   ]
  },
  {
   "cell_type": "code",
   "execution_count": 124,
   "metadata": {},
   "outputs": [
    {
     "name": "stdout",
     "output_type": "stream",
     "text": [
      "Mean:  4.7362336794278574e-05\n",
      "Standard deviation:  1.0002837528391604\n"
     ]
    }
   ],
   "source": [
    "matRandA = np.random.randn(1000,1000)\n",
    "print(\"Mean: \", np.mean(matRandA))\n",
    "print(\"Standard deviation: \", np.std(matRandA))"
   ]
  },
  {
   "cell_type": "code",
   "execution_count": 125,
   "metadata": {},
   "outputs": [
    {
     "name": "stdout",
     "output_type": "stream",
     "text": [
      "Mean:  0.00027457416330770783\n",
      "Standard deviation:  1.000358934585753\n"
     ]
    }
   ],
   "source": [
    "rand_mat5 = np.random.randn(500,500)\n",
    "\n",
    "print(\"Mean: \", np.mean(rand_mat5))\n",
    "print(\"Standard deviation: \", np.std(rand_mat5))"
   ]
  },
  {
   "cell_type": "markdown",
   "metadata": {},
   "source": [
    "**Using np.random.randint function**\n",
    "-The np.random.randint returns a random numpy array whose element(s) are drawn randomly from low(inclusive) to the high (exclusive) range"
   ]
  },
  {
   "cell_type": "code",
   "execution_count": 126,
   "metadata": {},
   "outputs": [
    {
     "name": "stdout",
     "output_type": "stream",
     "text": [
      "[1 3 2 3 4 1 3 2 2 3]\n"
     ]
    }
   ],
   "source": [
    "rand_mat6 = np.random.randint(1, 5, 10)\n",
    "print(rand_mat6)"
   ]
  },
  {
   "cell_type": "code",
   "execution_count": 127,
   "metadata": {},
   "outputs": [
    {
     "name": "stdout",
     "output_type": "stream",
     "text": [
      "[[7 6 3 3 4]\n",
      " [5 5 6 3 1]\n",
      " [1 4 4 9 8]\n",
      " [3 1 3 9 4]\n",
      " [9 5 7 2 3]]\n"
     ]
    }
   ],
   "source": [
    "rand_mat7 = np.random.randint(1, 10, [5,5])\n",
    "print(rand_mat7)"
   ]
  },
  {
   "cell_type": "code",
   "execution_count": 128,
   "metadata": {},
   "outputs": [
    {
     "data": {
      "text/plain": [
       "0.7091719685024501"
      ]
     },
     "execution_count": 128,
     "metadata": {},
     "output_type": "execute_result"
    }
   ],
   "source": [
    "rand_mat8 = np.random.randn(10)\n",
    "rand_mat8\n",
    "rand_mat8[6] #Access the 7th element"
   ]
  },
  {
   "cell_type": "code",
   "execution_count": 129,
   "metadata": {},
   "outputs": [
    {
     "data": {
      "text/plain": [
       "array([ 0.45463629, -0.82840338,  0.26413982,  0.18490772,  0.44101243,\n",
       "       -1.51164342,  0.70917197,  0.98245027, -1.01497901, -0.40851273])"
      ]
     },
     "execution_count": 129,
     "metadata": {},
     "output_type": "execute_result"
    }
   ],
   "source": [
    "rand_mat8"
   ]
  },
  {
   "cell_type": "code",
   "execution_count": 130,
   "metadata": {},
   "outputs": [
    {
     "data": {
      "text/plain": [
       "array([ 0.44101243, -1.51164342,  0.70917197,  0.98245027, -1.01497901])"
      ]
     },
     "execution_count": 130,
     "metadata": {},
     "output_type": "execute_result"
    }
   ],
   "source": [
    "#Access the 5th to 10th item\n",
    "rand_mat8[4:9]"
   ]
  },
  {
   "cell_type": "code",
   "execution_count": 131,
   "metadata": {},
   "outputs": [
    {
     "data": {
      "text/plain": [
       "array([ 0.45463629, -0.82840338,  0.26413982,  0.18490772,  0.44101243,\n",
       "       -1.51164342,  0.70917197,  0.98245027, -1.01497901, -0.40851273])"
      ]
     },
     "execution_count": 131,
     "metadata": {},
     "output_type": "execute_result"
    }
   ],
   "source": [
    "rand_mat8"
   ]
  },
  {
   "cell_type": "code",
   "execution_count": 132,
   "metadata": {},
   "outputs": [
    {
     "name": "stdout",
     "output_type": "stream",
     "text": [
      "Values greater than 0: [0.45463629 0.26413982 0.18490772 0.44101243 0.70917197 0.98245027]\n"
     ]
    }
   ],
   "source": [
    "print(\"Values greater than 0:\", rand_mat8[rand_mat8 > 0])"
   ]
  },
  {
   "cell_type": "code",
   "execution_count": 133,
   "metadata": {},
   "outputs": [
    {
     "name": "stdout",
     "output_type": "stream",
     "text": [
      "Values less than 0: [-0.82840338 -1.51164342 -1.01497901 -0.40851273]\n"
     ]
    }
   ],
   "source": [
    "print(\"Values less than 0:\", rand_mat8[rand_mat8 < 0])"
   ]
  },
  {
   "cell_type": "code",
   "execution_count": 134,
   "metadata": {},
   "outputs": [
    {
     "data": {
      "text/plain": [
       "array([-1.54712561, -0.01840426, -1.57613373,  0.72578875, -1.11923067,\n",
       "       -0.39647425,  0.43582071,  0.9238561 , -0.64374751,  0.49310355,\n",
       "       -1.36692253, -1.11077646, -0.18575348, -0.74436281, -0.00601417,\n",
       "       -1.82951282,  1.28505947, -1.92548489,  1.28841541,  0.36966878])"
      ]
     },
     "execution_count": 134,
     "metadata": {},
     "output_type": "execute_result"
    }
   ],
   "source": [
    "rand_mat9 = np.random.randn(20)\n",
    "rand_mat9"
   ]
  },
  {
   "cell_type": "code",
   "execution_count": 135,
   "metadata": {},
   "outputs": [
    {
     "data": {
      "text/plain": [
       "array([6, 6, 7, 7, 7, 6, 9, 6, 5, 7])"
      ]
     },
     "execution_count": 135,
     "metadata": {},
     "output_type": "execute_result"
    }
   ],
   "source": [
    "rand_mat10 = np.random.randint(3,10,10)\n",
    "rand_mat10"
   ]
  },
  {
   "cell_type": "code",
   "execution_count": 136,
   "metadata": {},
   "outputs": [
    {
     "data": {
      "text/plain": [
       "array([ True,  True,  True,  True,  True,  True,  True,  True, False,\n",
       "        True])"
      ]
     },
     "execution_count": 136,
     "metadata": {},
     "output_type": "execute_result"
    }
   ],
   "source": [
    "rand_mat10 > 5"
   ]
  },
  {
   "cell_type": "code",
   "execution_count": 137,
   "metadata": {},
   "outputs": [
    {
     "data": {
      "text/plain": [
       "array([[1, 2, 3],\n",
       "       [4, 5, 6],\n",
       "       [7, 8, 9]])"
      ]
     },
     "execution_count": 137,
     "metadata": {},
     "output_type": "execute_result"
    }
   ],
   "source": [
    "matrix = np.array([[1,2,3],[4,5,6],[7,8,9]])\n",
    "matrix"
   ]
  },
  {
   "cell_type": "code",
   "execution_count": 138,
   "metadata": {},
   "outputs": [
    {
     "name": "stdout",
     "output_type": "stream",
     "text": [
      "1\n"
     ]
    }
   ],
   "source": [
    "print(matrix[0][0])"
   ]
  },
  {
   "cell_type": "code",
   "execution_count": 139,
   "metadata": {},
   "outputs": [
    {
     "name": "stdout",
     "output_type": "stream",
     "text": [
      "2\n"
     ]
    }
   ],
   "source": [
    "print(matrix[0][1])"
   ]
  },
  {
   "cell_type": "code",
   "execution_count": 140,
   "metadata": {},
   "outputs": [
    {
     "name": "stdout",
     "output_type": "stream",
     "text": [
      "5\n"
     ]
    }
   ],
   "source": [
    "print(matrix[1][1])"
   ]
  },
  {
   "cell_type": "code",
   "execution_count": 141,
   "metadata": {},
   "outputs": [
    {
     "name": "stdout",
     "output_type": "stream",
     "text": [
      "[ 7  8  9 10]\n"
     ]
    }
   ],
   "source": [
    "vec = np.array([4,7,8,9,10,6,1])\n",
    "print(vec[vec>6])"
   ]
  },
  {
   "cell_type": "code",
   "execution_count": 64,
   "metadata": {},
   "outputs": [
    {
     "name": "stdout",
     "output_type": "stream",
     "text": [
      "[4 2 2 2 2 6 1]\n"
     ]
    }
   ],
   "source": [
    "vec1 = np.array([4,7,8,9,10,6,1])\n",
    "vec1[vec1>6] = 2\n",
    "print(vec1)"
   ]
  },
  {
   "cell_type": "code",
   "execution_count": 145,
   "metadata": {},
   "outputs": [
    {
     "name": "stdout",
     "output_type": "stream",
     "text": [
      "[[7 6 4 0 8]\n",
      " [3 5 7 6 6]\n",
      " [7 3 8 9 4]\n",
      " [0 9 7 4 4]\n",
      " [1 8 3 4 0]]\n"
     ]
    }
   ],
   "source": [
    "rand_mat3 = np.random.randint(0,10,[5,5])\n",
    "print(rand_mat3)"
   ]
  },
  {
   "cell_type": "code",
   "execution_count": 148,
   "metadata": {},
   "outputs": [
    {
     "data": {
      "text/plain": [
       "array([3, 5, 7, 6, 6])"
      ]
     },
     "execution_count": 148,
     "metadata": {},
     "output_type": "execute_result"
    }
   ],
   "source": [
    "rand_mat3[1]"
   ]
  },
  {
   "cell_type": "code",
   "execution_count": 147,
   "metadata": {},
   "outputs": [
    {
     "data": {
      "text/plain": [
       "5"
      ]
     },
     "execution_count": 147,
     "metadata": {},
     "output_type": "execute_result"
    }
   ],
   "source": [
    "rand_mat3[1][1]"
   ]
  },
  {
   "cell_type": "code",
   "execution_count": 149,
   "metadata": {},
   "outputs": [
    {
     "data": {
      "text/plain": [
       "7"
      ]
     },
     "execution_count": 149,
     "metadata": {},
     "output_type": "execute_result"
    }
   ],
   "source": [
    "rand_mat3[1,2]"
   ]
  },
  {
   "cell_type": "code",
   "execution_count": 150,
   "metadata": {},
   "outputs": [
    {
     "name": "stdout",
     "output_type": "stream",
     "text": [
      "Matrix before modification: \n",
      " [[7 6 4 0 8]\n",
      " [3 5 7 6 6]\n",
      " [7 3 8 9 4]\n",
      " [0 9 7 4 4]\n",
      " [1 8 3 4 0]]\n"
     ]
    }
   ],
   "source": [
    "print(\"Matrix before modification: \\n\", rand_mat3)"
   ]
  },
  {
   "cell_type": "code",
   "execution_count": 161,
   "metadata": {},
   "outputs": [
    {
     "name": "stdout",
     "output_type": "stream",
     "text": [
      "Matrix after modification:  [[7 6 4 0 8]\n",
      " [3 5 7 0 0]\n",
      " [7 3 8 0 0]\n",
      " [0 9 7 4 4]\n",
      " [1 8 3 4 0]]\n"
     ]
    }
   ],
   "source": [
    "rand_mat3[1:3,3:5] = 0\n",
    "print(\"Matrix after modification: \", rand_mat3)"
   ]
  },
  {
   "cell_type": "code",
   "execution_count": 164,
   "metadata": {},
   "outputs": [],
   "source": [
    "sub_mat3 = rand_mat3[0:2,0:3]"
   ]
  },
  {
   "cell_type": "code",
   "execution_count": 165,
   "metadata": {},
   "outputs": [
    {
     "name": "stdout",
     "output_type": "stream",
     "text": [
      "[[7 6 4]\n",
      " [3 5 7]]\n"
     ]
    }
   ],
   "source": [
    "print(sub_mat3)"
   ]
  },
  {
   "cell_type": "code",
   "execution_count": 166,
   "metadata": {},
   "outputs": [
    {
     "name": "stdout",
     "output_type": "stream",
     "text": [
      "[[3 3 3]\n",
      " [3 3 3]]\n"
     ]
    }
   ],
   "source": [
    "sub_mat3[:] = 3\n",
    "print(sub_mat3)"
   ]
  },
  {
   "cell_type": "code",
   "execution_count": 167,
   "metadata": {},
   "outputs": [
    {
     "name": "stdout",
     "output_type": "stream",
     "text": [
      "[[3 3 3 0 8]\n",
      " [3 3 3 0 0]\n",
      " [7 3 8 0 0]\n",
      " [0 9 7 4 4]\n",
      " [1 8 3 4 0]]\n"
     ]
    }
   ],
   "source": [
    "print(rand_mat3)"
   ]
  },
  {
   "cell_type": "code",
   "execution_count": 171,
   "metadata": {},
   "outputs": [
    {
     "name": "stdout",
     "output_type": "stream",
     "text": [
      "[[-1.66232907  0.62656175  0.11011108 -0.24397761  1.66934466]\n",
      " [-1.13948905 -0.74296847  0.79598358  0.42811308 -1.44860092]\n",
      " [ 0.33709188  0.99082593 -0.09156312 -0.56344182 -2.30251064]\n",
      " [ 0.11791901 -1.25621304 -0.34013618  0.54274469 -0.16201649]\n",
      " [ 0.09581254 -0.84324627 -0.39075099  0.2007485  -0.88013146]]\n",
      "[[-1.66232907  0.62656175  0.11011108]\n",
      " [-1.13948905 -0.74296847  0.79598358]]\n",
      "[[3. 3. 3.]\n",
      " [3. 3. 3.]]\n",
      "[[-1.66232907  0.62656175  0.11011108 -0.24397761  1.66934466]\n",
      " [-1.13948905 -0.74296847  0.79598358  0.42811308 -1.44860092]\n",
      " [ 0.33709188  0.99082593 -0.09156312 -0.56344182 -2.30251064]\n",
      " [ 0.11791901 -1.25621304 -0.34013618  0.54274469 -0.16201649]\n",
      " [ 0.09581254 -0.84324627 -0.39075099  0.2007485  -0.88013146]]\n"
     ]
    }
   ],
   "source": [
    "rand_mat = np.random.randn(5,5)\n",
    "print(rand_mat)\n",
    "sub_mat = rand_mat[0:2,0:3].copy()\n",
    "print(sub_mat)\n",
    "sub_mat[:] = 3\n",
    "print(sub_mat)\n",
    "print(rand_mat)"
   ]
  },
  {
   "cell_type": "code",
   "execution_count": 173,
   "metadata": {},
   "outputs": [
    {
     "name": "stdout",
     "output_type": "stream",
     "text": [
      "[[1 0 3]\n",
      " [4 0 6]\n",
      " [7 8 9]]\n"
     ]
    }
   ],
   "source": [
    "matrix = np.arange(1,10).reshape(3,3)\n",
    "matrix[0:2,1:2] = 0\n",
    "print(matrix)"
   ]
  },
  {
   "cell_type": "code",
   "execution_count": 174,
   "metadata": {},
   "outputs": [
    {
     "name": "stdout",
     "output_type": "stream",
     "text": [
      "[[1 2 3]\n",
      " [4 5 6]\n",
      " [7 8 9]]\n",
      "[[1 2 3]\n",
      " [4 4 6]\n",
      " [7 8 9]]\n",
      "[[1 2 3]\n",
      " [4 4 6]\n",
      " [7 8 9]]\n"
     ]
    }
   ],
   "source": [
    "array1 = np.array([[1,2,3],[4,5,6],[7,8,9]])\n",
    "print(array1)\n",
    "array2 = array1\n",
    "array2[1:2,0:2] = 4\n",
    "print(array2)\n",
    "print(array1)"
   ]
  },
  {
   "cell_type": "code",
   "execution_count": null,
   "metadata": {},
   "outputs": [],
   "source": []
  }
 ],
 "metadata": {
  "kernelspec": {
   "display_name": "base",
   "language": "python",
   "name": "python3"
  },
  "language_info": {
   "codemirror_mode": {
    "name": "ipython",
    "version": 3
   },
   "file_extension": ".py",
   "mimetype": "text/x-python",
   "name": "python",
   "nbconvert_exporter": "python",
   "pygments_lexer": "ipython3",
   "version": "3.9.13"
  }
 },
 "nbformat": 4,
 "nbformat_minor": 2
}
