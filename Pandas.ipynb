{
 "cells": [
  {
   "cell_type": "markdown",
   "id": "d6da1cdb",
   "metadata": {},
   "source": [
    "Learning and using pandas"
   ]
  },
  {
   "cell_type": "code",
   "execution_count": 1,
   "id": "bab5a020",
   "metadata": {},
   "outputs": [],
   "source": [
    "import pandas as pd\n",
    "import numpy as np"
   ]
  },
  {
   "cell_type": "code",
   "execution_count": 2,
   "id": "e1df1b94",
   "metadata": {},
   "outputs": [],
   "source": [
    "#Create a list of prices for medicines\n",
    "med_price_list = [45, 34, 56, 78, 90]"
   ]
  },
  {
   "cell_type": "code",
   "execution_count": 3,
   "id": "7651b090",
   "metadata": {},
   "outputs": [],
   "source": [
    "#Convert the list into an array\n",
    "med_price_array = np.array(med_price_list)"
   ]
  },
  {
   "cell_type": "code",
   "execution_count": 4,
   "id": "f0ec20ab",
   "metadata": {},
   "outputs": [],
   "source": [
    "#convert list and array into pandas series object\n",
    "series_list = pd.Series(med_price_list)\n",
    "series_arr = pd.Series(med_price_array)"
   ]
  },
  {
   "cell_type": "code",
   "execution_count": 5,
   "id": "95c91dd9",
   "metadata": {},
   "outputs": [
    {
     "name": "stdout",
     "output_type": "stream",
     "text": [
      "0    45\n",
      "1    34\n",
      "2    56\n",
      "3    78\n",
      "4    90\n",
      "dtype: int64\n",
      "0    45\n",
      "1    34\n",
      "2    56\n",
      "3    78\n",
      "4    90\n",
      "dtype: int32\n"
     ]
    }
   ],
   "source": [
    "#print the series object\n",
    "print(series_list)\n",
    "print(series_arr)"
   ]
  },
  {
   "cell_type": "markdown",
   "id": "67596d2b",
   "metadata": {},
   "source": [
    "Series has automatically got index labels"
   ]
  },
  {
   "cell_type": "code",
   "execution_count": 7,
   "id": "897bd9f4",
   "metadata": {},
   "outputs": [
    {
     "name": "stdout",
     "output_type": "stream",
     "text": [
      "Omeprazole      45\n",
      "Azithromycin    34\n",
      "Meetfroming     56\n",
      "Ibuprofen       78\n",
      "Cetirizine      90\n",
      "dtype: int64\n"
     ]
    }
   ],
   "source": [
    "#Changing the index of a series\n",
    "med_price_list_labelled = pd.Series(med_price_list, index=[\"Omeprazole\",\"Azithromycin\",\"Meetfroming\",\n",
    "\"Ibuprofen\",\"Cetirizine\"])\n",
    "print(med_price_list_labelled)"
   ]
  },
  {
   "cell_type": "markdown",
   "id": "8fc6bedc",
   "metadata": {},
   "source": []
  },
  {
   "cell_type": "markdown",
   "id": "84f57d9d",
   "metadata": {},
   "source": [
    "Perfoming mathematical operations on Pandas Series"
   ]
  },
  {
   "cell_type": "code",
   "execution_count": 9,
   "id": "d82f453a",
   "metadata": {},
   "outputs": [
    {
     "data": {
      "text/plain": [
       "Omeprazole      50.0\n",
       "Azithromycin    39.0\n",
       "Meetfroming     61.0\n",
       "Ibuprofen       83.0\n",
       "Cetirizine      95.0\n",
       "dtype: float64"
      ]
     },
     "execution_count": 9,
     "metadata": {},
     "output_type": "execute_result"
    }
   ],
   "source": [
    "#Increment all prices by $2.5\n",
    "med_price_list_labelled = med_price_list_labelled + 2.5\n",
    "med_price_list_labelled"
   ]
  },
  {
   "cell_type": "code",
   "execution_count": 10,
   "id": "e5b8831c",
   "metadata": {},
   "outputs": [
    {
     "data": {
      "text/plain": [
       "Omeprazole      77\n",
       "Azithromycin    56\n",
       "Meetfroming     87\n",
       "Ibuprofen       90\n",
       "Cetirizine      21\n",
       "dtype: int64"
      ]
     },
     "execution_count": 10,
     "metadata": {},
     "output_type": "execute_result"
    }
   ],
   "source": [
    "#A new price list has been released by vendors for each medicine\n",
    "new_price_list = [77,56,87,90,21]\n",
    "new_price_list_labelled = pd.Series(new_price_list, index = [\"Omeprazole\",\"Azithromycin\",\"Meetfroming\",\n",
    "\"Ibuprofen\",\"Cetirizine\"])\n",
    "new_price_list_labelled"
   ]
  },
  {
   "cell_type": "code",
   "execution_count": 11,
   "id": "acc3579b",
   "metadata": {},
   "outputs": [
    {
     "name": "stdout",
     "output_type": "stream",
     "text": [
      "Omeprazole      27.0\n",
      "Azithromycin    17.0\n",
      "Meetfroming     26.0\n",
      "Ibuprofen        7.0\n",
      "Cetirizine     -74.0\n",
      "dtype: float64\n"
     ]
    }
   ],
   "source": [
    "#Print difference between new price list and previous price list\n",
    "print(new_price_list_labelled - med_price_list_labelled)"
   ]
  },
  {
   "cell_type": "markdown",
   "id": "54d5fb23",
   "metadata": {},
   "source": [
    "Pandas DataFrame is a two-dimensional tabular data structure with labelled axes(rows and columns)"
   ]
  },
  {
   "cell_type": "code",
   "execution_count": 12,
   "id": "40dae1ec",
   "metadata": {},
   "outputs": [
    {
     "data": {
      "text/html": [
       "<div>\n",
       "<style scoped>\n",
       "    .dataframe tbody tr th:only-of-type {\n",
       "        vertical-align: middle;\n",
       "    }\n",
       "\n",
       "    .dataframe tbody tr th {\n",
       "        vertical-align: top;\n",
       "    }\n",
       "\n",
       "    .dataframe thead th {\n",
       "        text-align: right;\n",
       "    }\n",
       "</style>\n",
       "<table border=\"1\" class=\"dataframe\">\n",
       "  <thead>\n",
       "    <tr style=\"text-align: right;\">\n",
       "      <th></th>\n",
       "      <th>Student</th>\n",
       "    </tr>\n",
       "  </thead>\n",
       "  <tbody>\n",
       "    <tr>\n",
       "      <th>0</th>\n",
       "      <td>Mary</td>\n",
       "    </tr>\n",
       "    <tr>\n",
       "      <th>1</th>\n",
       "      <td>Peter</td>\n",
       "    </tr>\n",
       "    <tr>\n",
       "      <th>2</th>\n",
       "      <td>Susan</td>\n",
       "    </tr>\n",
       "    <tr>\n",
       "      <th>3</th>\n",
       "      <td>Toby</td>\n",
       "    </tr>\n",
       "    <tr>\n",
       "      <th>4</th>\n",
       "      <td>Vishal</td>\n",
       "    </tr>\n",
       "  </tbody>\n",
       "</table>\n",
       "</div>"
      ],
      "text/plain": [
       "  Student\n",
       "0    Mary\n",
       "1   Peter\n",
       "2   Susan\n",
       "3    Toby\n",
       "4  Vishal"
      ]
     },
     "execution_count": 12,
     "metadata": {},
     "output_type": "execute_result"
    }
   ],
   "source": [
    "#Creating a pandas dataframe\n",
    "student = [\"Mary\",\"Peter\",\"Susan\",\"Toby\",\"Vishal\"]\n",
    "df1 = pd.DataFrame(student, columns=[\"Student\"])\n",
    "df1"
   ]
  },
  {
   "cell_type": "code",
   "execution_count": 13,
   "id": "4a8c6f81",
   "metadata": {},
   "outputs": [
    {
     "data": {
      "text/html": [
       "<div>\n",
       "<style scoped>\n",
       "    .dataframe tbody tr th:only-of-type {\n",
       "        vertical-align: middle;\n",
       "    }\n",
       "\n",
       "    .dataframe tbody tr th {\n",
       "        vertical-align: top;\n",
       "    }\n",
       "\n",
       "    .dataframe thead th {\n",
       "        text-align: right;\n",
       "    }\n",
       "</style>\n",
       "<table border=\"1\" class=\"dataframe\">\n",
       "  <thead>\n",
       "    <tr style=\"text-align: right;\">\n",
       "      <th></th>\n",
       "      <th>Student</th>\n",
       "      <th>Grade</th>\n",
       "    </tr>\n",
       "  </thead>\n",
       "  <tbody>\n",
       "    <tr>\n",
       "      <th>0</th>\n",
       "      <td>Mary</td>\n",
       "      <td>B-</td>\n",
       "    </tr>\n",
       "    <tr>\n",
       "      <th>1</th>\n",
       "      <td>Peter</td>\n",
       "      <td>A+</td>\n",
       "    </tr>\n",
       "    <tr>\n",
       "      <th>2</th>\n",
       "      <td>Susan</td>\n",
       "      <td>A-</td>\n",
       "    </tr>\n",
       "    <tr>\n",
       "      <th>3</th>\n",
       "      <td>Toby</td>\n",
       "      <td>B+</td>\n",
       "    </tr>\n",
       "    <tr>\n",
       "      <th>4</th>\n",
       "      <td>Vishal</td>\n",
       "      <td>C</td>\n",
       "    </tr>\n",
       "  </tbody>\n",
       "</table>\n",
       "</div>"
      ],
      "text/plain": [
       "  Student Grade\n",
       "0    Mary    B-\n",
       "1   Peter    A+\n",
       "2   Susan    A-\n",
       "3    Toby    B+\n",
       "4  Vishal     C"
      ]
     },
     "execution_count": 13,
     "metadata": {},
     "output_type": "execute_result"
    }
   ],
   "source": [
    "#Creating a Pandas DataFrame using a dictionary\n",
    "grades = [\"B-\", \"A+\", \"A-\",\"B+\",\"C\"]\n",
    "\n",
    "df2 = pd.DataFrame({\"Student\":student, \"Grade\": grades})\n",
    "df2"
   ]
  },
  {
   "cell_type": "code",
   "execution_count": 14,
   "id": "315bce7f",
   "metadata": {},
   "outputs": [
    {
     "data": {
      "text/plain": [
       "['Mary', 'Peter', 'Susan']"
      ]
     },
     "execution_count": 14,
     "metadata": {},
     "output_type": "execute_result"
    }
   ],
   "source": [
    "student[0:3]"
   ]
  },
  {
   "cell_type": "markdown",
   "id": "bf0054fc",
   "metadata": {},
   "source": [
    "Creating a pandas dataframe using series"
   ]
  },
  {
   "cell_type": "code",
   "execution_count": 17,
   "id": "9c0f7c37",
   "metadata": {},
   "outputs": [
    {
     "data": {
      "text/html": [
       "<div>\n",
       "<style scoped>\n",
       "    .dataframe tbody tr th:only-of-type {\n",
       "        vertical-align: middle;\n",
       "    }\n",
       "\n",
       "    .dataframe tbody tr th {\n",
       "        vertical-align: top;\n",
       "    }\n",
       "\n",
       "    .dataframe thead th {\n",
       "        text-align: right;\n",
       "    }\n",
       "</style>\n",
       "<table border=\"1\" class=\"dataframe\">\n",
       "  <thead>\n",
       "    <tr style=\"text-align: right;\">\n",
       "      <th></th>\n",
       "      <th>Year</th>\n",
       "      <th>Energy_Consumption(Mtoe)</th>\n",
       "    </tr>\n",
       "  </thead>\n",
       "  <tbody>\n",
       "    <tr>\n",
       "      <th>0</th>\n",
       "      <td>2012</td>\n",
       "      <td>2152</td>\n",
       "    </tr>\n",
       "    <tr>\n",
       "      <th>1</th>\n",
       "      <td>2013</td>\n",
       "      <td>2196</td>\n",
       "    </tr>\n",
       "    <tr>\n",
       "      <th>2</th>\n",
       "      <td>2014</td>\n",
       "      <td>2217</td>\n",
       "    </tr>\n",
       "    <tr>\n",
       "      <th>3</th>\n",
       "      <td>2015</td>\n",
       "      <td>2194</td>\n",
       "    </tr>\n",
       "    <tr>\n",
       "      <th>4</th>\n",
       "      <td>2016</td>\n",
       "      <td>2172</td>\n",
       "    </tr>\n",
       "    <tr>\n",
       "      <th>5</th>\n",
       "      <td>2017</td>\n",
       "      <td>2180</td>\n",
       "    </tr>\n",
       "    <tr>\n",
       "      <th>6</th>\n",
       "      <td>2018</td>\n",
       "      <td>2258</td>\n",
       "    </tr>\n",
       "  </tbody>\n",
       "</table>\n",
       "</div>"
      ],
      "text/plain": [
       "   Year  Energy_Consumption(Mtoe)\n",
       "0  2012                      2152\n",
       "1  2013                      2196\n",
       "2  2014                      2217\n",
       "3  2015                      2194\n",
       "4  2016                      2172\n",
       "5  2017                      2180\n",
       "6  2018                      2258"
      ]
     },
     "execution_count": 17,
     "metadata": {},
     "output_type": "execute_result"
    }
   ],
   "source": [
    "#Total energy consumption in the US between 2012 - 2018\n",
    "year = pd.Series(np.arange(2012,2019,1))\n",
    "energy_consumption = pd.Series([2152, 2196, 2217, 2194, 2172, 2180, 2258])\n",
    "\n",
    "df3 = pd.DataFrame({\"Year\":year, \"Energy_Consumption(Mtoe)\":energy_consumption})\n",
    "df3"
   ]
  },
  {
   "cell_type": "markdown",
   "id": "ca6b4f85",
   "metadata": {},
   "source": [
    "Creating a Pandas DataFrame using random values"
   ]
  },
  {
   "cell_type": "code",
   "execution_count": 18,
   "id": "84c50fa1",
   "metadata": {},
   "outputs": [
    {
     "data": {
      "text/html": [
       "<div>\n",
       "<style scoped>\n",
       "    .dataframe tbody tr th:only-of-type {\n",
       "        vertical-align: middle;\n",
       "    }\n",
       "\n",
       "    .dataframe tbody tr th {\n",
       "        vertical-align: top;\n",
       "    }\n",
       "\n",
       "    .dataframe thead th {\n",
       "        text-align: right;\n",
       "    }\n",
       "</style>\n",
       "<table border=\"1\" class=\"dataframe\">\n",
       "  <thead>\n",
       "    <tr style=\"text-align: right;\">\n",
       "      <th></th>\n",
       "      <th>Trial 1</th>\n",
       "      <th>Trial 2</th>\n",
       "    </tr>\n",
       "  </thead>\n",
       "  <tbody>\n",
       "    <tr>\n",
       "      <th>0</th>\n",
       "      <td>0.570950</td>\n",
       "      <td>0.968798</td>\n",
       "    </tr>\n",
       "    <tr>\n",
       "      <th>1</th>\n",
       "      <td>-1.387334</td>\n",
       "      <td>0.065967</td>\n",
       "    </tr>\n",
       "    <tr>\n",
       "      <th>2</th>\n",
       "      <td>1.018330</td>\n",
       "      <td>1.088994</td>\n",
       "    </tr>\n",
       "    <tr>\n",
       "      <th>3</th>\n",
       "      <td>-0.240635</td>\n",
       "      <td>-0.189555</td>\n",
       "    </tr>\n",
       "    <tr>\n",
       "      <th>4</th>\n",
       "      <td>-0.868079</td>\n",
       "      <td>-0.073412</td>\n",
       "    </tr>\n",
       "  </tbody>\n",
       "</table>\n",
       "</div>"
      ],
      "text/plain": [
       "    Trial 1   Trial 2\n",
       "0  0.570950  0.968798\n",
       "1 -1.387334  0.065967\n",
       "2  1.018330  1.088994\n",
       "3 -0.240635 -0.189555\n",
       "4 -0.868079 -0.073412"
      ]
     },
     "execution_count": 18,
     "metadata": {},
     "output_type": "execute_result"
    }
   ],
   "source": [
    "df4 = pd.DataFrame(np.random.randn(5,2), columns = [\"Trial 1\", \"Trial 2\"])\n",
    "df4"
   ]
  },
  {
   "cell_type": "code",
   "execution_count": 19,
   "id": "69fb2921",
   "metadata": {},
   "outputs": [
    {
     "data": {
      "text/plain": [
       "0    5\n",
       "1    5\n",
       "2    5\n",
       "3    5\n",
       "dtype: int64"
      ]
     },
     "execution_count": 19,
     "metadata": {},
     "output_type": "execute_result"
    }
   ],
   "source": [
    "s = pd.Series([5,5,5,5], index=[0,1,2,3])\n",
    "s"
   ]
  },
  {
   "cell_type": "code",
   "execution_count": null,
   "id": "55519c78",
   "metadata": {},
   "outputs": [],
   "source": []
  }
 ],
 "metadata": {
  "kernelspec": {
   "display_name": "base",
   "language": "python",
   "name": "python3"
  },
  "language_info": {
   "codemirror_mode": {
    "name": "ipython",
    "version": 3
   },
   "file_extension": ".py",
   "mimetype": "text/x-python",
   "name": "python",
   "nbconvert_exporter": "python",
   "pygments_lexer": "ipython3",
   "version": "3.9.13"
  }
 },
 "nbformat": 4,
 "nbformat_minor": 5
}
