{
 "cells": [
  {
   "cell_type": "code",
   "execution_count": 3,
   "id": "f0c448ba",
   "metadata": {},
   "outputs": [],
   "source": [
    "#NOAA Weather data download for Portland, Oregon\n",
    "\n",
    "import requests\n",
    "import pandas as pd"
   ]
  },
  {
   "cell_type": "code",
   "execution_count": null,
   "id": "170ca875",
   "metadata": {},
   "outputs": [],
   "source": [
    "NOAA_TOKEN = 'XXX'"
   ]
  },
  {
   "cell_type": "code",
   "execution_count": 6,
   "id": "9b0e4ec1",
   "metadata": {},
   "outputs": [
    {
     "name": "stdout",
     "output_type": "stream",
     "text": [
      "Fetching TMIN data...\n",
      "Fetching TMAX data...\n",
      "Fetching PRCP data...\n",
      "           value           \n",
      "datatype    PRCP  TMAX TMIN\n",
      "date                       \n",
      "2025-01-01   0.3   6.7  4.4\n",
      "2025-01-02  12.2   6.7  5.0\n",
      "2025-01-03  15.7   8.3  6.1\n",
      "2025-01-04  15.2  10.6  6.1\n",
      "2025-01-05   2.0  12.8  8.9\n"
     ]
    },
    {
     "name": "stderr",
     "output_type": "stream",
     "text": [
      "C:\\Users\\brosb\\AppData\\Local\\Temp\\ipykernel_55876\\347299688.py:48: FutureWarning: pivot_table dropped a column because it failed to aggregate. This behavior is deprecated and will raise in a future version of pandas. Select only the columns that can be aggregated.\n",
      "  df = raw_df.pivot_table(index='date', columns=\n"
     ]
    }
   ],
   "source": [
    "#NOAA API Headers\n",
    "headers = {'token': NOAA_TOKEN}\n",
    "\n",
    "#Portland Airport Station ID (GHCND:USW00024229)\n",
    "station_id = 'GHCND:USW00024229'\n",
    "\n",
    "#Date range\n",
    "start_date = '2025-01-01'\n",
    "end_date = '2025-01-31'\n",
    "\n",
    "datatype_ids = ['TMIN', 'TMAX', 'PRCP']\n",
    "\n",
    "def fetch_noaa_data(station_id, datatype_ids, start_date,\n",
    "                    end_date, token):\n",
    "    results = []\n",
    "\n",
    "    for dtype in datatype_ids:\n",
    "        print(f\"Fetching {dtype} data...\")\n",
    "        params = {\n",
    "            'datasetid': 'GHCND',\n",
    "            'stationid': station_id,\n",
    "            'datatypeid': dtype,\n",
    "            'startdate': start_date,\n",
    "            'enddate': end_date,\n",
    "            'units': 'metric',\n",
    "            'limit': 1000\n",
    "        }\n",
    "\n",
    "        response = requests.get(\n",
    "            'https://www.ncdc.noaa.gov/cdo-web/api/v2/data',\n",
    "            headers={'token': token},\n",
    "            params=params            \n",
    "        )\n",
    "\n",
    "        if response.status_code == 200:\n",
    "            data = response.json().get('results', [])\n",
    "            results.extend(data)\n",
    "        else:\n",
    "            print(f\"Error fetching {dtype}: {response.status_code} - {response.text}\")\n",
    "        \n",
    "    return pd.DataFrame(results)\n",
    "\n",
    "raw_df = fetch_noaa_data(station_id, datatype_ids, start_date, end_date, NOAA_TOKEN)\n",
    "\n",
    "if not raw_df.empty:\n",
    "    raw_df['date'] = pd.to_datetime(raw_df['date']).dt.date\n",
    "\n",
    "    df = raw_df.pivot_table(index='date', columns=\n",
    "                            'datatype')\n",
    "    \n",
    "    if 'MIN' in df.columns: df['TMIN'] = df['TMIN']/10\n",
    "    if 'MAX' in df.columns: df['TMAX'] = df['TMIN']/10\n",
    "    if 'PRCP' in df.columns: df['PRCP'] = df['PRCP']/10\n",
    "\n",
    "    print(df.head())\n",
    "\n",
    "else:\n",
    "    print(\"No data available\")\n",
    "\n"
   ]
  },
  {
   "cell_type": "code",
   "execution_count": 7,
   "id": "61c760af",
   "metadata": {},
   "outputs": [
    {
     "data": {
      "text/plain": [
       "(31, 3)"
      ]
     },
     "execution_count": 7,
     "metadata": {},
     "output_type": "execute_result"
    }
   ],
   "source": [
    "df.shape"
   ]
  },
  {
   "cell_type": "code",
   "execution_count": null,
   "id": "c2b04058",
   "metadata": {},
   "outputs": [],
   "source": []
  }
 ],
 "metadata": {
  "kernelspec": {
   "display_name": "Python 3",
   "language": "python",
   "name": "python3"
  },
  "language_info": {
   "codemirror_mode": {
    "name": "ipython",
    "version": 3
   },
   "file_extension": ".py",
   "mimetype": "text/x-python",
   "name": "python",
   "nbconvert_exporter": "python",
   "pygments_lexer": "ipython3",
   "version": "3.10.11"
  }
 },
 "nbformat": 4,
 "nbformat_minor": 5
}
